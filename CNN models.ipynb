{
 "cells": [
  {
   "cell_type": "markdown",
   "metadata": {},
   "source": [
    "# CNN Methods"
   ]
  },
  {
   "cell_type": "code",
   "execution_count": 11,
   "metadata": {
    "collapsed": true
   },
   "outputs": [],
   "source": [
    "#=========================================== CNN ============================================================\n",
    "import cv2\n",
    "import matplotlib.pyplot as plt\n",
    "import keras\n",
    "from keras.preprocessing.image import ImageDataGenerator\n",
    "from keras.models import Sequential\n",
    "from keras.layers import Dense, Dropout, Activation, Flatten\n",
    "from keras.layers import Conv2D, MaxPooling2D,MaxPool2D,BatchNormalization\n",
    "from mpl_toolkits.axes_grid1 import AxesGrid\n",
    "from sklearn.metrics import confusion_matrix\n",
    "from keras.optimizers import SGD\n",
    "%matplotlib inline"
   ]
  },
  {
   "cell_type": "markdown",
   "metadata": {},
   "source": [
    "**1. CNN callback**"
   ]
  },
  {
   "cell_type": "code",
   "execution_count": 14,
   "metadata": {
    "collapsed": true
   },
   "outputs": [],
   "source": [
    "# ==============================callback function:learning rate annealer=================#\n",
    "from keras.callbacks import ReduceLROnPlateau\n",
    "learning_rate = ReduceLROnPlateau(monitor = 'val_acc',\n",
    "                                 patience = 3,\n",
    "                                 factor = 0.5,\n",
    "                                 min_lr = 0.001)"
   ]
  },
  {
   "cell_type": "markdown",
   "metadata": {},
   "source": [
    "**2. CNN final model**<br>\n",
    "Whithout data augmentation, the accuracy is already 97%. pretty good!!"
   ]
  },
  {
   "cell_type": "code",
   "execution_count": 35,
   "metadata": {
    "scrolled": false
   },
   "outputs": [
    {
     "name": "stdout",
     "output_type": "stream",
     "text": [
      "Train on 12776 samples, validate on 641 samples\n",
      "Epoch 1/40\n",
      "12776/12776 [==============================] - 419s 33ms/step - loss: 2.1640 - acc: 0.2707 - val_loss: 1.7898 - val_acc: 0.4072\n",
      "Epoch 2/40\n",
      "12776/12776 [==============================] - 403s 32ms/step - loss: 1.5450 - acc: 0.5077 - val_loss: 1.1986 - val_acc: 0.6131\n",
      "Epoch 3/40\n",
      "12776/12776 [==============================] - 406s 32ms/step - loss: 1.1936 - acc: 0.6247 - val_loss: 0.8711 - val_acc: 0.7317\n",
      "Epoch 4/40\n",
      "12776/12776 [==============================] - 387s 30ms/step - loss: 0.9807 - acc: 0.6911 - val_loss: 0.7339 - val_acc: 0.7847\n",
      "Epoch 5/40\n",
      "12776/12776 [==============================] - 386s 30ms/step - loss: 0.8403 - acc: 0.7381 - val_loss: 0.6682 - val_acc: 0.8081\n",
      "Epoch 6/40\n",
      "12776/12776 [==============================] - 387s 30ms/step - loss: 0.7297 - acc: 0.7711 - val_loss: 0.5239 - val_acc: 0.8378\n",
      "Epoch 7/40\n",
      "12776/12776 [==============================] - 388s 30ms/step - loss: 0.6651 - acc: 0.7983 - val_loss: 0.3929 - val_acc: 0.9002\n",
      "Epoch 8/40\n",
      "12776/12776 [==============================] - 388s 30ms/step - loss: 0.6365 - acc: 0.8062 - val_loss: 0.3189 - val_acc: 0.8924\n",
      "Epoch 9/40\n",
      "12776/12776 [==============================] - 391s 31ms/step - loss: 0.8337 - acc: 0.7693 - val_loss: 0.4353 - val_acc: 0.8658\n",
      "Epoch 10/40\n",
      "12776/12776 [==============================] - 388s 30ms/step - loss: 0.7731 - acc: 0.7827 - val_loss: 0.3989 - val_acc: 0.8799\n",
      "Epoch 11/40\n",
      "12776/12776 [==============================] - 386s 30ms/step - loss: 0.3921 - acc: 0.8788 - val_loss: 0.1906 - val_acc: 0.9516\n",
      "Epoch 12/40\n",
      "12776/12776 [==============================] - 387s 30ms/step - loss: 0.2432 - acc: 0.9258 - val_loss: 0.1655 - val_acc: 0.9548\n",
      "Epoch 13/40\n",
      "12776/12776 [==============================] - 387s 30ms/step - loss: 0.2524 - acc: 0.9288 - val_loss: 0.1553 - val_acc: 0.9626\n",
      "Epoch 14/40\n",
      "12776/12776 [==============================] - 386s 30ms/step - loss: 0.2237 - acc: 0.9340 - val_loss: 0.1367 - val_acc: 0.9626\n",
      "Epoch 15/40\n",
      "12776/12776 [==============================] - 387s 30ms/step - loss: 0.1935 - acc: 0.9431 - val_loss: 0.1531 - val_acc: 0.9719\n",
      "Epoch 16/40\n",
      "12776/12776 [==============================] - 387s 30ms/step - loss: 0.1817 - acc: 0.9485 - val_loss: 0.1613 - val_acc: 0.9657\n",
      "Epoch 17/40\n",
      "12776/12776 [==============================] - 388s 30ms/step - loss: 0.2799 - acc: 0.9256 - val_loss: 0.1244 - val_acc: 0.9688\n",
      "Epoch 18/40\n",
      "12776/12776 [==============================] - 387s 30ms/step - loss: 0.2414 - acc: 0.9377 - val_loss: 0.1888 - val_acc: 0.9641\n",
      "Epoch 19/40\n",
      "12776/12776 [==============================] - 387s 30ms/step - loss: 0.1512 - acc: 0.9593 - val_loss: 0.1113 - val_acc: 0.9735\n",
      "Epoch 20/40\n",
      "12776/12776 [==============================] - 387s 30ms/step - loss: 0.0886 - acc: 0.9738 - val_loss: 0.1218 - val_acc: 0.9766\n",
      "Epoch 21/40\n",
      "12776/12776 [==============================] - 387s 30ms/step - loss: 0.0772 - acc: 0.9778 - val_loss: 0.1139 - val_acc: 0.9750\n",
      "Epoch 22/40\n",
      "12776/12776 [==============================] - 387s 30ms/step - loss: 0.0674 - acc: 0.9814 - val_loss: 0.1075 - val_acc: 0.9782\n",
      "Epoch 23/40\n",
      "12776/12776 [==============================] - 386s 30ms/step - loss: 0.0544 - acc: 0.9843 - val_loss: 0.1143 - val_acc: 0.9766\n",
      "Epoch 24/40\n",
      "12776/12776 [==============================] - 388s 30ms/step - loss: 0.0479 - acc: 0.9869 - val_loss: 0.1268 - val_acc: 0.9750\n",
      "Epoch 25/40\n",
      "12776/12776 [==============================] - 387s 30ms/step - loss: 0.0462 - acc: 0.9867 - val_loss: 0.1210 - val_acc: 0.9797\n",
      "Epoch 26/40\n",
      "12776/12776 [==============================] - 387s 30ms/step - loss: 0.0429 - acc: 0.9897 - val_loss: 0.1028 - val_acc: 0.9766\n",
      "Epoch 27/40\n",
      "12776/12776 [==============================] - 386s 30ms/step - loss: 0.0460 - acc: 0.9879 - val_loss: 0.1028 - val_acc: 0.9813\n",
      "Epoch 28/40\n",
      "12776/12776 [==============================] - 387s 30ms/step - loss: 0.0320 - acc: 0.9924 - val_loss: 0.1393 - val_acc: 0.9750\n",
      "Epoch 29/40\n",
      "12776/12776 [==============================] - 387s 30ms/step - loss: 0.0292 - acc: 0.9919 - val_loss: 0.1314 - val_acc: 0.9750\n",
      "Epoch 30/40\n",
      "12776/12776 [==============================] - 386s 30ms/step - loss: 0.0328 - acc: 0.9923 - val_loss: 0.1352 - val_acc: 0.9735\n",
      "Epoch 31/40\n",
      "12776/12776 [==============================] - 386s 30ms/step - loss: 0.0268 - acc: 0.9933 - val_loss: 0.1274 - val_acc: 0.9750\n",
      "Epoch 32/40\n",
      "12776/12776 [==============================] - 387s 30ms/step - loss: 0.0246 - acc: 0.9937 - val_loss: 0.1208 - val_acc: 0.9750\n",
      "Epoch 33/40\n",
      "12776/12776 [==============================] - 386s 30ms/step - loss: 0.0288 - acc: 0.9932 - val_loss: 0.1188 - val_acc: 0.9782\n",
      "Epoch 34/40\n",
      "12776/12776 [==============================] - 388s 30ms/step - loss: 0.0213 - acc: 0.9941 - val_loss: 0.1192 - val_acc: 0.9766\n",
      "Epoch 35/40\n",
      "12776/12776 [==============================] - 388s 30ms/step - loss: 0.0172 - acc: 0.9953 - val_loss: 0.1197 - val_acc: 0.9750\n",
      "Epoch 36/40\n",
      "12776/12776 [==============================] - 384s 30ms/step - loss: 0.0192 - acc: 0.9954 - val_loss: 0.1219 - val_acc: 0.9766\n",
      "Epoch 37/40\n",
      "12776/12776 [==============================] - 385s 30ms/step - loss: 0.0193 - acc: 0.9951 - val_loss: 0.1252 - val_acc: 0.9766\n",
      "Epoch 38/40\n",
      "12776/12776 [==============================] - 384s 30ms/step - loss: 0.0218 - acc: 0.9949 - val_loss: 0.1205 - val_acc: 0.9766\n",
      "Epoch 39/40\n",
      "12776/12776 [==============================] - 385s 30ms/step - loss: 0.0158 - acc: 0.9962 - val_loss: 0.1209 - val_acc: 0.9766\n",
      "Epoch 40/40\n",
      "12776/12776 [==============================] - 386s 30ms/step - loss: 0.0138 - acc: 0.9961 - val_loss: 0.1166 - val_acc: 0.9766\n",
      "CNN accuracy: 0.976599063963\n",
      "\n",
      "\n",
      "                          precision    recall  f1-score   support\n",
      "\n",
      "  abraham_grampa_simpson       1.00      1.00      1.00        48\n",
      "            bart_simpson       0.91      0.96      0.93        50\n",
      "charles_montgomery_burns       0.96      1.00      0.98        48\n",
      "            chief_wiggum       1.00      1.00      1.00        50\n",
      "           homer_simpson       0.98      0.92      0.95        50\n",
      "        krusty_the_clown       1.00      1.00      1.00        50\n",
      "            lisa_simpson       0.94      0.94      0.94        50\n",
      "           marge_simpson       1.00      0.98      0.99        50\n",
      "     milhouse_van_houten       1.00      1.00      1.00        49\n",
      "             moe_szyslak       0.96      0.94      0.95        50\n",
      "            ned_flanders       1.00      0.98      0.99        49\n",
      "       principal_skinner       0.98      0.98      0.98        50\n",
      "            sideshow_bob       0.98      1.00      0.99        47\n",
      "\n",
      "             avg / total       0.98      0.98      0.98       641\n",
      "\n"
     ]
    }
   ],
   "source": [
    "batch_size = 32\n",
    "epochs = 40\n",
    "num_classes = 13\n",
    "img_rows, img_cols = X_train.shape[1],X_train.shape[2]\n",
    "input_shape = (img_rows, img_cols, 3)\n",
    "\n",
    "model = Sequential()\n",
    "model.add(Conv2D(32, (3, 3), padding='same', input_shape=input_shape))\n",
    "model.add(Activation('relu'))\n",
    "model.add(Conv2D(32, (3, 3)))\n",
    "model.add(Activation('relu'))\n",
    "model.add(MaxPooling2D(pool_size=(2, 2)))\n",
    "model.add(Dropout(0.2))\n",
    "model.add(Conv2D(64, (3, 3), padding='same'))\n",
    "model.add(Activation('relu'))\n",
    "model.add(Conv2D(64, (3, 3)))\n",
    "model.add(Activation('relu'))\n",
    "model.add(MaxPooling2D(pool_size=(2, 2)))\n",
    "model.add(Dropout(0.2))\n",
    "model.add(Conv2D(256, (3, 3), padding='same')) \n",
    "model.add(Activation('relu'))\n",
    "model.add(Conv2D(256, (3, 3)))\n",
    "model.add(Activation('relu'))\n",
    "model.add(MaxPooling2D(pool_size=(2, 2)))\n",
    "model.add(Dropout(0.2))\n",
    "model.add(Flatten())\n",
    "model.add(Dense(1024))\n",
    "model.add(Activation('relu'))\n",
    "model.add(Dropout(0.5))\n",
    "model.add(Dense(num_classes, activation='softmax'))\n",
    "# define optimizer: SGD\n",
    "opt = SGD(lr=0.01, decay=1e-6, momentum=0.9, nesterov=True)\n",
    "# compile model\n",
    "model.compile(loss='categorical_crossentropy',\n",
    "              optimizer=opt,\n",
    "              metrics=['accuracy'])\n",
    "#fit model and get all the accuracy and loss history values\n",
    "model_history = model.fit(X_train,Y_trainHot, batch_size = batch_size,epochs = epochs, validation_data = [X_test, Y_testHot], callbacks = [learning_rate])\n",
    "\n",
    "score = model.evaluate(X_test,Y_testHot, verbose=0)\n",
    "print('CNN accuracy:', score[1])\n",
    "print('')\n",
    "y_pred = model.predict(X_test)\n",
    "print('\\n', sklearn.metrics.classification_report(np.where(Y_testHot > 0)[1], np.argmax(y_pred, axis=1), target_names=list(dict_characters.values())), sep='')    \n"
   ]
  },
  {
   "cell_type": "code",
   "execution_count": 36,
   "metadata": {},
   "outputs": [
    {
     "data": {
      "text/plain": [
       "<function matplotlib.pyplot.show>"
      ]
     },
     "execution_count": 36,
     "metadata": {},
     "output_type": "execute_result"
    },
    {
     "data": {
      "image/png": "[encoded data removed]",
      "text/plain": [
       "<matplotlib.figure.Figure at 0x1a2b28eeb8>"
      ]
     },
     "metadata": {},
     "output_type": "display_data"
    }
   ],
   "source": [
    "# ================================plot history model 2 accuracy===============================================#\n",
    "plt.plot(model_history.history['acc'])\n",
    "plt.plot(model_history.history['val_acc'])\n",
    "plt.title('History model accuray')\n",
    "plt.xlabel('Epoch')\n",
    "plt.ylabel('Accuracy')\n",
    "plt.legend(['train','test'], loc = 'upper left')\n",
    "plt.show"
   ]
  },
  {
   "cell_type": "code",
   "execution_count": 38,
   "metadata": {},
   "outputs": [
    {
     "data": {
      "text/plain": [
       "<function matplotlib.pyplot.show>"
      ]
     },
     "execution_count": 38,
     "metadata": {},
     "output_type": "execute_result"
    },
    {
     "data": {
      "image/png": "[encoded data removed]",
      "text/plain": [
       "<matplotlib.figure.Figure at 0x1a36fe5320>"
      ]
     },
     "metadata": {},
     "output_type": "display_data"
    }
   ],
   "source": [
    "# ================================plot history model 2 loss===============================================#\n",
    "plt.plot(model_history.history['loss'])\n",
    "plt.plot(model_history.history['val_loss'])\n",
    "plt.title('History model loss')\n",
    "plt.xlabel('Epoch')\n",
    "plt.ylabel('Accuracy')\n",
    "plt.legend(['train','test'], loc = 'upper right')\n",
    "plt.show"
   ]
  },
  {
   "cell_type": "markdown",
   "metadata": {},
   "source": [
    "**ADD AUGMENTATION**"
   ]
  },
  {
   "cell_type": "markdown",
   "metadata": {},
   "source": [
    "Model 3 which has data augmentation"
   ]
  },
  {
   "cell_type": "code",
   "execution_count": 48,
   "metadata": {},
   "outputs": [
    {
     "name": "stdout",
     "output_type": "stream",
     "text": [
      "Epoch 1/50\n",
      "399/399 [==============================] - 401s 1s/step - loss: 2.3018 - acc: 0.2189 - val_loss: 1.8116 - val_acc: 0.4041\n",
      "Epoch 2/50\n",
      "399/399 [==============================] - 430s 1s/step - loss: 1.7729 - acc: 0.4272 - val_loss: 1.3205 - val_acc: 0.5913\n",
      "Epoch 3/50\n",
      "399/399 [==============================] - 443s 1s/step - loss: 1.4418 - acc: 0.5362 - val_loss: 0.9524 - val_acc: 0.6911\n",
      "Epoch 4/50\n",
      "399/399 [==============================] - 457s 1s/step - loss: 1.1936 - acc: 0.6215 - val_loss: 0.8778 - val_acc: 0.7379\n",
      "Epoch 5/50\n",
      "399/399 [==============================] - 461s 1s/step - loss: 1.0272 - acc: 0.6797 - val_loss: 0.7200 - val_acc: 0.7629\n",
      "Epoch 6/50\n",
      "399/399 [==============================] - 430s 1s/step - loss: 0.9413 - acc: 0.7008 - val_loss: 0.5974 - val_acc: 0.8190\n",
      "Epoch 7/50\n",
      "399/399 [==============================] - 430s 1s/step - loss: 0.8669 - acc: 0.7280 - val_loss: 0.5952 - val_acc: 0.8081\n",
      "Epoch 8/50\n",
      "399/399 [==============================] - 411s 1s/step - loss: 0.8698 - acc: 0.7324 - val_loss: 0.5801 - val_acc: 0.8159\n",
      "Epoch 9/50\n",
      "399/399 [==============================] - 415s 1s/step - loss: 0.8186 - acc: 0.7541 - val_loss: 0.5631 - val_acc: 0.8112\n",
      "Epoch 10/50\n",
      "399/399 [==============================] - 422s 1s/step - loss: 0.5913 - acc: 0.8207 - val_loss: 0.3726 - val_acc: 0.8986\n",
      "Epoch 11/50\n",
      "399/399 [==============================] - 417s 1s/step - loss: 0.4898 - acc: 0.8470 - val_loss: 0.3230 - val_acc: 0.8970\n",
      "Epoch 12/50\n",
      "399/399 [==============================] - 464s 1s/step - loss: 0.4699 - acc: 0.8577 - val_loss: 0.2901 - val_acc: 0.9033\n",
      "Epoch 13/50\n",
      "399/399 [==============================] - 468s 1s/step - loss: 0.4283 - acc: 0.8690 - val_loss: 0.2389 - val_acc: 0.9220\n",
      "Epoch 14/50\n",
      "399/399 [==============================] - 392s 982ms/step - loss: 0.4091 - acc: 0.8744 - val_loss: 0.2599 - val_acc: 0.9158\n",
      "Epoch 15/50\n",
      "399/399 [==============================] - 450s 1s/step - loss: 0.3935 - acc: 0.8810 - val_loss: 0.2349 - val_acc: 0.9329\n",
      "Epoch 16/50\n",
      "399/399 [==============================] - 459s 1s/step - loss: 0.3816 - acc: 0.8806 - val_loss: 0.2304 - val_acc: 0.9298\n",
      "Epoch 17/50\n",
      "399/399 [==============================] - 446s 1s/step - loss: 0.3454 - acc: 0.8944 - val_loss: 0.2338 - val_acc: 0.9282\n",
      "Epoch 18/50\n",
      "399/399 [==============================] - 446s 1s/step - loss: 0.3534 - acc: 0.8928 - val_loss: 0.2102 - val_acc: 0.9345\n",
      "Epoch 19/50\n",
      "399/399 [==============================] - 418s 1s/step - loss: 0.3335 - acc: 0.8988 - val_loss: 0.2024 - val_acc: 0.9392\n",
      "Epoch 20/50\n",
      "399/399 [==============================] - 409s 1s/step - loss: 0.3234 - acc: 0.8993 - val_loss: 0.2179 - val_acc: 0.9423\n",
      "Epoch 21/50\n",
      "399/399 [==============================] - 598s 1s/step - loss: 0.3224 - acc: 0.9036 - val_loss: 0.1698 - val_acc: 0.9532\n",
      "Epoch 22/50\n",
      "399/399 [==============================] - 624s 2s/step - loss: 0.3137 - acc: 0.9054 - val_loss: 0.2023 - val_acc: 0.9392\n",
      "Epoch 23/50\n",
      "399/399 [==============================] - 512s 1s/step - loss: 0.3215 - acc: 0.9051 - val_loss: 0.1670 - val_acc: 0.9454\n",
      "Epoch 24/50\n",
      "399/399 [==============================] - 486s 1s/step - loss: 0.3028 - acc: 0.9086 - val_loss: 0.1719 - val_acc: 0.9438\n",
      "Epoch 25/50\n",
      "399/399 [==============================] - 486s 1s/step - loss: 0.2401 - acc: 0.9240 - val_loss: 0.1435 - val_acc: 0.9610\n",
      "Epoch 26/50\n",
      "399/399 [==============================] - 453s 1s/step - loss: 0.2147 - acc: 0.9358 - val_loss: 0.1297 - val_acc: 0.9594\n",
      "Epoch 27/50\n",
      "399/399 [==============================] - 398s 997ms/step - loss: 0.2040 - acc: 0.9360 - val_loss: 0.1103 - val_acc: 0.9688\n",
      "Epoch 28/50\n",
      "399/399 [==============================] - 405s 1s/step - loss: 0.2001 - acc: 0.9385 - val_loss: 0.1432 - val_acc: 0.9672\n",
      "Epoch 29/50\n",
      "399/399 [==============================] - 454s 1s/step - loss: 0.1893 - acc: 0.9423 - val_loss: 0.1159 - val_acc: 0.9719\n",
      "Epoch 30/50\n",
      "399/399 [==============================] - 390s 978ms/step - loss: 0.1877 - acc: 0.9458 - val_loss: 0.1266 - val_acc: 0.9688\n",
      "Epoch 31/50\n",
      "399/399 [==============================] - 400s 1s/step - loss: 0.1798 - acc: 0.9453 - val_loss: 0.1291 - val_acc: 0.9704\n",
      "Epoch 32/50\n",
      "399/399 [==============================] - 422s 1s/step - loss: 0.1712 - acc: 0.9476 - val_loss: 0.1161 - val_acc: 0.9719\n",
      "Epoch 33/50\n",
      "399/399 [==============================] - 426s 1s/step - loss: 0.1601 - acc: 0.9502 - val_loss: 0.1098 - val_acc: 0.9719\n",
      "Epoch 34/50\n",
      "399/399 [==============================] - 438s 1s/step - loss: 0.1441 - acc: 0.9565 - val_loss: 0.1099 - val_acc: 0.9782\n",
      "Epoch 35/50\n",
      "399/399 [==============================] - 431s 1s/step - loss: 0.1371 - acc: 0.9589 - val_loss: 0.1098 - val_acc: 0.9735\n",
      "Epoch 36/50\n",
      "399/399 [==============================] - 430s 1s/step - loss: 0.1446 - acc: 0.9565 - val_loss: 0.0997 - val_acc: 0.9750\n",
      "Epoch 37/50\n",
      "399/399 [==============================] - 397s 996ms/step - loss: 0.1366 - acc: 0.9579 - val_loss: 0.0944 - val_acc: 0.9782\n",
      "Epoch 38/50\n",
      "399/399 [==============================] - 389s 976ms/step - loss: 0.1340 - acc: 0.9588 - val_loss: 0.0979 - val_acc: 0.9797\n",
      "Epoch 39/50\n",
      "399/399 [==============================] - 417s 1s/step - loss: 0.1283 - acc: 0.9622 - val_loss: 0.0953 - val_acc: 0.9782\n",
      "Epoch 40/50\n",
      "399/399 [==============================] - 415s 1s/step - loss: 0.1246 - acc: 0.9617 - val_loss: 0.0982 - val_acc: 0.9782\n",
      "Epoch 41/50\n",
      "399/399 [==============================] - 415s 1s/step - loss: 0.1137 - acc: 0.9655 - val_loss: 0.0905 - val_acc: 0.9813\n",
      "Epoch 42/50\n",
      "399/399 [==============================] - 388s 972ms/step - loss: 0.1106 - acc: 0.9648 - val_loss: 0.0937 - val_acc: 0.9766\n",
      "Epoch 43/50\n",
      "399/399 [==============================] - 389s 974ms/step - loss: 0.1141 - acc: 0.9651 - val_loss: 0.0921 - val_acc: 0.9813\n",
      "Epoch 44/50\n",
      "399/399 [==============================] - 388s 974ms/step - loss: 0.1182 - acc: 0.9647 - val_loss: 0.0960 - val_acc: 0.9797\n",
      "Epoch 45/50\n",
      "399/399 [==============================] - 386s 968ms/step - loss: 0.1069 - acc: 0.9684 - val_loss: 0.0978 - val_acc: 0.9797\n",
      "Epoch 46/50\n",
      "399/399 [==============================] - 386s 968ms/step - loss: 0.1120 - acc: 0.9648 - val_loss: 0.0926 - val_acc: 0.9828\n",
      "Epoch 47/50\n",
      "399/399 [==============================] - 398s 998ms/step - loss: 0.1144 - acc: 0.9654 - val_loss: 0.0932 - val_acc: 0.9813\n",
      "Epoch 48/50\n",
      "399/399 [==============================] - 395s 990ms/step - loss: 0.1074 - acc: 0.9685 - val_loss: 0.0915 - val_acc: 0.9813\n",
      "Epoch 49/50\n",
      "399/399 [==============================] - 396s 993ms/step - loss: 0.1102 - acc: 0.9677 - val_loss: 0.0874 - val_acc: 0.9844\n",
      "Epoch 50/50\n",
      "399/399 [==============================] - 395s 989ms/step - loss: 0.1025 - acc: 0.9680 - val_loss: 0.0875 - val_acc: 0.9813\n",
      "CNN accuracy: 0.98127925117\n",
      "\n",
      "\n",
      "                          precision    recall  f1-score   support\n",
      "\n",
      "  abraham_grampa_simpson       0.98      0.98      0.98        48\n",
      "            bart_simpson       0.94      0.98      0.96        50\n",
      "charles_montgomery_burns       0.94      1.00      0.97        48\n",
      "            chief_wiggum       0.98      1.00      0.99        50\n",
      "           homer_simpson       0.98      0.90      0.94        50\n",
      "        krusty_the_clown       1.00      1.00      1.00        50\n",
      "            lisa_simpson       0.98      0.96      0.97        50\n",
      "           marge_simpson       1.00      1.00      1.00        50\n",
      "     milhouse_van_houten       1.00      1.00      1.00        49\n",
      "             moe_szyslak       0.98      0.98      0.98        50\n",
      "            ned_flanders       1.00      0.96      0.98        49\n",
      "       principal_skinner       0.98      1.00      0.99        50\n",
      "            sideshow_bob       1.00      1.00      1.00        47\n",
      "\n",
      "             avg / total       0.98      0.98      0.98       641\n",
      "\n"
     ]
    }
   ],
   "source": [
    "batch_size = 32\n",
    "epochs = 50\n",
    "num_classes = 13\n",
    "img_rows, img_cols = X_train.shape[1],X_train.shape[2]\n",
    "input_shape = (img_rows, img_cols, 3)\n",
    "\n",
    "model = Sequential()\n",
    "model.add(Conv2D(32, (3, 3), padding='same', input_shape=input_shape))\n",
    "model.add(Activation('relu'))\n",
    "model.add(Conv2D(32, (3, 3)))\n",
    "model.add(Activation('relu'))\n",
    "model.add(MaxPooling2D(pool_size=(2, 2)))\n",
    "model.add(Dropout(0.2))\n",
    "model.add(Conv2D(64, (3, 3), padding='same'))\n",
    "model.add(Activation('relu'))\n",
    "model.add(Conv2D(64, (3, 3)))\n",
    "model.add(Activation('relu'))\n",
    "model.add(MaxPooling2D(pool_size=(2, 2)))\n",
    "model.add(Dropout(0.2))\n",
    "model.add(Conv2D(256, (3, 3), padding='same')) \n",
    "model.add(Activation('relu'))\n",
    "model.add(Conv2D(256, (3, 3)))\n",
    "model.add(Activation('relu'))\n",
    "model.add(MaxPooling2D(pool_size=(2, 2)))\n",
    "model.add(Dropout(0.2))\n",
    "model.add(Flatten())\n",
    "model.add(Dense(1024))\n",
    "model.add(Activation('relu'))\n",
    "model.add(Dropout(0.5))\n",
    "model.add(Dense(num_classes, activation='softmax'))\n",
    "# define optimizer\n",
    "opt = SGD(lr=0.01, decay=1e-6, momentum=0.9, nesterov=True)\n",
    "# compile model\n",
    "model.compile(loss='categorical_crossentropy',\n",
    "              optimizer=opt,\n",
    "              metrics=['accuracy'])\n",
    "# data augmentation\n",
    "datagen = ImageDataGenerator(\n",
    "            featurewise_center=False,  # set input mean to 0 over the dataset\n",
    "            samplewise_center=False,  # set each sample mean to 0\n",
    "            featurewise_std_normalization=False,  # divide inputs by std of the dataset\n",
    "            samplewise_std_normalization=False,  # divide each input by its std\n",
    "            zca_whitening=False,  # apply ZCA whitening\n",
    "            rotation_range=10,  # randomly rotate images in the range (degrees, 0 to 180)\n",
    "            width_shift_range=0.1,  # randomly shift images horizontally (fraction of total width)\n",
    "            height_shift_range=0.1,  # randomly shift images vertically (fraction of total height)\n",
    "            horizontal_flip=True,  # randomly flip images\n",
    "            vertical_flip=False)  # randomly flip images\n",
    "datagen.fit(X_train)\n",
    "#fit model and get all the accuracy and loss history values\n",
    "model_history = model.fit_generator(datagen.flow(X_train,Y_trainHot, batch_size=batch_size),\n",
    "                              epochs = epochs, validation_data = (X_test, Y_testHot),\n",
    "                              steps_per_epoch=X_train.shape[0] // batch_size, callbacks=[learning_rate])\n",
    "score = model.evaluate(X_test,Y_testHot, verbose=0)\n",
    "print('CNN accuracy:', score[1])\n",
    "print('')\n",
    "y_pred = model.predict(X_test)\n",
    "# get model report: precision, recall, F1 score\n",
    "print('\\n', sklearn.metrics.classification_report(np.where(Y_testHot > 0)[1], np.argmax(y_pred, axis=1), target_names=list(dict_characters.values())), sep='')    \n"
   ]
  },
  {
   "cell_type": "code",
   "execution_count": 49,
   "metadata": {},
   "outputs": [
    {
     "data": {
      "text/plain": [
       "<function matplotlib.pyplot.show>"
      ]
     },
     "execution_count": 49,
     "metadata": {},
     "output_type": "execute_result"
    },
    {
     "data": {
      "image/png": "[encoded data removed]",
      "text/plain": [
       "<matplotlib.figure.Figure at 0x1a8629c710>"
      ]
     },
     "metadata": {},
     "output_type": "display_data"
    }
   ],
   "source": [
    "# ================================plot history model3 accuracy===============================================#\n",
    "plt.plot(model_history.history['acc'])\n",
    "plt.plot(model_history.history['val_acc'])\n",
    "plt.title('History model accuray')\n",
    "plt.xlabel('Epoch')\n",
    "plt.ylabel('Accuracy')\n",
    "plt.legend(['train','test'], loc = 'upper left')\n",
    "plt.show"
   ]
  },
  {
   "cell_type": "code",
   "execution_count": 50,
   "metadata": {},
   "outputs": [
    {
     "data": {
      "text/plain": [
       "<function matplotlib.pyplot.show>"
      ]
     },
     "execution_count": 50,
     "metadata": {},
     "output_type": "execute_result"
    },
    {
     "data": {
      "image/png": "[encoded data removed]",
      "text/plain": [
       "<matplotlib.figure.Figure at 0x1a8629c0f0>"
      ]
     },
     "metadata": {},
     "output_type": "display_data"
    }
   ],
   "source": [
    "# ================================plot history model3 loss===============================================#\n",
    "plt.plot(model_history.history['loss'])\n",
    "plt.plot(model_history.history['val_loss'])\n",
    "plt.title('History model loss')\n",
    "plt.xlabel('Epoch')\n",
    "plt.ylabel('Accuracy')\n",
    "plt.legend(['train','test'], loc = 'upper left')\n",
    "plt.show"
   ]
  }
 ],
 "metadata": {
  "kernelspec": {
   "display_name": "Python 3",
   "language": "python",
   "name": "python3"
  },
  "language_info": {
   "codemirror_mode": {
    "name": "ipython",
    "version": 3
   },
   "file_extension": ".py",
   "mimetype": "text/x-python",
   "name": "python",
   "nbconvert_exporter": "python",
   "pygments_lexer": "ipython3",
   "version": "3.6.3"
  }
 },
 "nbformat": 4,
 "nbformat_minor": 2
}
